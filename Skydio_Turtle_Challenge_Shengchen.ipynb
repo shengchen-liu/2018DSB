{
  "nbformat": 4,
  "nbformat_minor": 0,
  "metadata": {
    "colab": {
      "provenance": [],
      "include_colab_link": true
    },
    "kernelspec": {
      "name": "python3",
      "display_name": "Python 3"
    },
    "language_info": {
      "name": "python"
    }
  },
  "cells": [
    {
      "cell_type": "markdown",
      "metadata": {
        "id": "view-in-github",
        "colab_type": "text"
      },
      "source": [
        "<a href=\"https://colab.research.google.com/github/shengchen-liu/2018DSB/blob/master/Skydio_Turtle_Challenge_Shengchen.ipynb\" target=\"_parent\"><img src=\"https://colab.research.google.com/assets/colab-badge.svg\" alt=\"Open In Colab\"/></a>"
      ]
    },
    {
      "cell_type": "markdown",
      "metadata": {
        "id": "nzhJVP5KW7fT"
      },
      "source": [
        "# Skydio Take Home Challenge - Triangulate the Turtle"
      ]
    },
    {
      "cell_type": "markdown",
      "metadata": {
        "id": "Nbr_NwW1XZlx"
      },
      "source": [
        "**Challenge** - A Skydio drone sees a turtle from two different perspectives as drawn in the image below. At each of the two locations, the robot detects the centroid of the turtle in its main camera. The goal of this task is to find the XYZ coordinates of the turtle.\n",
        "* The XYZ locations of the camera center are labeled as p1 and p2.\n",
        "* The heading of the drone is given by angles θ1 and θ2 in degrees from the Y axis.\n",
        "* The drone is hovering level with the XY plane (and assume it does not have a gimbal).\n",
        "* The XY pixel coordinates of the detections are labeled as d1 and d2.\n",
        "* The camera is an exact linear pinhole camera with a focal length of 270 pixels and resolution 640x480 pixels.\n",
        "* Pixel coordinates (0, 0) are the top left of the image.\n",
        "* The world Z axis is out of the page.\n",
        "* The turtle is stationary between the two views.\n",
        "* You have free use of the internet and external libraries such as numpy or sympy. However, not use functions that solve this problem out of the box.\n",
        "\n",
        "**Submission** - Make a copy of this notebook and fill out the code and writeup. Feel free to download and run locally if helpful. Share the completed Google Colab link with us by setting the permission to *Anyone with the link can view*.\n",
        "\n",
        "<img src=\"https://i.imgur.com/CguI9SJ.png\" width=600 />"
      ]
    },
    {
      "cell_type": "markdown",
      "metadata": {
        "id": "2jFXc3zCXdMS"
      },
      "source": [
        "## Code"
      ]
    },
    {
      "cell_type": "code",
      "metadata": {
        "colab": {
          "base_uri": "https://localhost:8080/"
        },
        "id": "tL6gmqfiZCrc",
        "outputId": "ef1cfd85-b4c4-4ddd-d311-cc25fd256d9a"
      },
      "source": [
        "import numpy as np\n",
        "\n",
        "# TODO: find the (x, y, z) location of the turtle\n",
        "\n",
        "turtle_position = np.array([0, 0, 0])\n",
        "print(f\"The turtle is at {turtle_position}\")\n",
        "\n",
        "# TODO: sanity check your answer"
      ],
      "execution_count": null,
      "outputs": [
        {
          "output_type": "stream",
          "text": [
            "The turtle is at [0 0 0]\n"
          ],
          "name": "stdout"
        }
      ]
    },
    {
      "cell_type": "markdown",
      "metadata": {
        "id": "YZY5_Y9GZH8H"
      },
      "source": [
        "## Writeup"
      ]
    },
    {
      "cell_type": "markdown",
      "metadata": {
        "id": "MAu--tVsZYZ1"
      },
      "source": [
        "TODO - document your approach and roughly how much time you spent."
      ]
    }
  ]
}